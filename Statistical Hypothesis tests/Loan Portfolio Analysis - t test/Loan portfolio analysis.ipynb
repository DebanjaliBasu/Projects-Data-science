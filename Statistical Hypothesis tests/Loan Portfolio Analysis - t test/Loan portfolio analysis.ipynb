{
 "cells": [
  {
   "cell_type": "markdown",
   "metadata": {},
   "source": [
    "### Business Problem : \n",
    " A data-driven finance company have noticed that some of their operational team members are relying on their own assumptions and interpretations of the data, leading to inaccurate decision-making with regard to loan portfolio decisions. While some assumptions may prove to be accurate, we need to ensure that all their decisions are based on sound statistical analysis. To address this challenge, we need to evaluate a series of assumptions related to their operations based on factual data."
   ]
  },
  {
   "cell_type": "code",
   "execution_count": 60,
   "metadata": {},
   "outputs": [],
   "source": [
    "import pandas as pd\n",
    "import numpy as np\n",
    "import matplotlib.pyplot as plt\n",
    "import seaborn as sns\n",
    "import scipy.stats as stats\n",
    "import statsmodels.api as sm\n",
    "from statsmodels.formula.api import ols"
   ]
  },
  {
   "cell_type": "code",
   "execution_count": 31,
   "metadata": {},
   "outputs": [
    {
     "data": {
      "text/html": [
       "<div>\n",
       "<style scoped>\n",
       "    .dataframe tbody tr th:only-of-type {\n",
       "        vertical-align: middle;\n",
       "    }\n",
       "\n",
       "    .dataframe tbody tr th {\n",
       "        vertical-align: top;\n",
       "    }\n",
       "\n",
       "    .dataframe thead th {\n",
       "        text-align: right;\n",
       "    }\n",
       "</style>\n",
       "<table border=\"1\" class=\"dataframe\">\n",
       "  <thead>\n",
       "    <tr style=\"text-align: right;\">\n",
       "      <th></th>\n",
       "      <th>loan_id</th>\n",
       "      <th>principal_loan_amount</th>\n",
       "      <th>request_date</th>\n",
       "      <th>interest_rate</th>\n",
       "      <th>loan_channel</th>\n",
       "      <th>is_approved</th>\n",
       "      <th>is_default</th>\n",
       "      <th>customer_monthly_income</th>\n",
       "      <th>customer_age</th>\n",
       "      <th>customer_gender</th>\n",
       "      <th>customer_credit_score</th>\n",
       "      <th>customer_zip_code</th>\n",
       "    </tr>\n",
       "  </thead>\n",
       "  <tbody>\n",
       "    <tr>\n",
       "      <th>0</th>\n",
       "      <td>70280c1b-4339-4949-ba69-ad2a6cb6b782</td>\n",
       "      <td>8880</td>\n",
       "      <td>2023-03-06</td>\n",
       "      <td>9.0</td>\n",
       "      <td>WEB</td>\n",
       "      <td>True</td>\n",
       "      <td>NaN</td>\n",
       "      <td>6100</td>\n",
       "      <td>30</td>\n",
       "      <td>Male</td>\n",
       "      <td>3</td>\n",
       "      <td>10007</td>\n",
       "    </tr>\n",
       "    <tr>\n",
       "      <th>1</th>\n",
       "      <td>8a550559-9749-491b-b6aa-7188bc0a488f</td>\n",
       "      <td>13720</td>\n",
       "      <td>2023-05-10</td>\n",
       "      <td>10.0</td>\n",
       "      <td>MOBILE_APP</td>\n",
       "      <td>True</td>\n",
       "      <td>NaN</td>\n",
       "      <td>5150</td>\n",
       "      <td>39</td>\n",
       "      <td>Female</td>\n",
       "      <td>3</td>\n",
       "      <td>10004</td>\n",
       "    </tr>\n",
       "    <tr>\n",
       "      <th>2</th>\n",
       "      <td>5644d27e-e05e-4a40-bef3-64187892338f</td>\n",
       "      <td>2090</td>\n",
       "      <td>2023-02-16</td>\n",
       "      <td>7.5</td>\n",
       "      <td>AGENT</td>\n",
       "      <td>True</td>\n",
       "      <td>NaN</td>\n",
       "      <td>6030</td>\n",
       "      <td>43</td>\n",
       "      <td>Female</td>\n",
       "      <td>3</td>\n",
       "      <td>10003</td>\n",
       "    </tr>\n",
       "    <tr>\n",
       "      <th>3</th>\n",
       "      <td>9d8d17ac-8af9-4936-ba5d-8d5ed5e0cfab</td>\n",
       "      <td>6820</td>\n",
       "      <td>2023-02-26</td>\n",
       "      <td>8.5</td>\n",
       "      <td>MOBILE_APP</td>\n",
       "      <td>NaN</td>\n",
       "      <td>NaN</td>\n",
       "      <td>2150</td>\n",
       "      <td>54</td>\n",
       "      <td>Male</td>\n",
       "      <td>0</td>\n",
       "      <td>10004</td>\n",
       "    </tr>\n",
       "    <tr>\n",
       "      <th>4</th>\n",
       "      <td>4586ad7a-2231-419b-b8e3-ba03b929b56e</td>\n",
       "      <td>13770</td>\n",
       "      <td>2023-04-13</td>\n",
       "      <td>10.0</td>\n",
       "      <td>AFFILIATE</td>\n",
       "      <td>NaN</td>\n",
       "      <td>NaN</td>\n",
       "      <td>5810</td>\n",
       "      <td>28</td>\n",
       "      <td>Female</td>\n",
       "      <td>2</td>\n",
       "      <td>10007</td>\n",
       "    </tr>\n",
       "  </tbody>\n",
       "</table>\n",
       "</div>"
      ],
      "text/plain": [
       "                                loan_id  principal_loan_amount request_date  \\\n",
       "0  70280c1b-4339-4949-ba69-ad2a6cb6b782                   8880   2023-03-06   \n",
       "1  8a550559-9749-491b-b6aa-7188bc0a488f                  13720   2023-05-10   \n",
       "2  5644d27e-e05e-4a40-bef3-64187892338f                   2090   2023-02-16   \n",
       "3  9d8d17ac-8af9-4936-ba5d-8d5ed5e0cfab                   6820   2023-02-26   \n",
       "4  4586ad7a-2231-419b-b8e3-ba03b929b56e                  13770   2023-04-13   \n",
       "\n",
       "   interest_rate loan_channel is_approved is_default  customer_monthly_income  \\\n",
       "0            9.0          WEB        True        NaN                     6100   \n",
       "1           10.0   MOBILE_APP        True        NaN                     5150   \n",
       "2            7.5        AGENT        True        NaN                     6030   \n",
       "3            8.5   MOBILE_APP         NaN        NaN                     2150   \n",
       "4           10.0    AFFILIATE         NaN        NaN                     5810   \n",
       "\n",
       "   customer_age customer_gender  customer_credit_score  customer_zip_code  \n",
       "0            30            Male                      3              10007  \n",
       "1            39          Female                      3              10004  \n",
       "2            43          Female                      3              10003  \n",
       "3            54            Male                      0              10004  \n",
       "4            28          Female                      2              10007  "
      ]
     },
     "execution_count": 31,
     "metadata": {},
     "output_type": "execute_result"
    }
   ],
   "source": [
    "#load data\n",
    "\n",
    "data = pd.read_csv('loan-dataset-1.csv')\n",
    "data.head()"
   ]
  },
  {
   "cell_type": "code",
   "execution_count": 32,
   "metadata": {},
   "outputs": [
    {
     "name": "stdout",
     "output_type": "stream",
     "text": [
      "<class 'pandas.core.frame.DataFrame'>\n",
      "RangeIndex: 15163 entries, 0 to 15162\n",
      "Data columns (total 12 columns):\n",
      " #   Column                   Non-Null Count  Dtype  \n",
      "---  ------                   --------------  -----  \n",
      " 0   loan_id                  15163 non-null  object \n",
      " 1   principal_loan_amount    15163 non-null  int64  \n",
      " 2   request_date             15163 non-null  object \n",
      " 3   interest_rate            15163 non-null  float64\n",
      " 4   loan_channel             15163 non-null  object \n",
      " 5   is_approved              11771 non-null  object \n",
      " 6   is_default               545 non-null    object \n",
      " 7   customer_monthly_income  15163 non-null  int64  \n",
      " 8   customer_age             15163 non-null  int64  \n",
      " 9   customer_gender          15163 non-null  object \n",
      " 10  customer_credit_score    15163 non-null  int64  \n",
      " 11  customer_zip_code        15163 non-null  int64  \n",
      "dtypes: float64(1), int64(5), object(6)\n",
      "memory usage: 1.4+ MB\n"
     ]
    }
   ],
   "source": [
    "data.info()"
   ]
  },
  {
   "attachments": {},
   "cell_type": "markdown",
   "metadata": {},
   "source": [
    "There are missing values in 2 columns:is_approved and is_default"
   ]
  },
  {
   "cell_type": "code",
   "execution_count": 33,
   "metadata": {},
   "outputs": [
    {
     "data": {
      "text/html": [
       "<div>\n",
       "<style scoped>\n",
       "    .dataframe tbody tr th:only-of-type {\n",
       "        vertical-align: middle;\n",
       "    }\n",
       "\n",
       "    .dataframe tbody tr th {\n",
       "        vertical-align: top;\n",
       "    }\n",
       "\n",
       "    .dataframe thead th {\n",
       "        text-align: right;\n",
       "    }\n",
       "</style>\n",
       "<table border=\"1\" class=\"dataframe\">\n",
       "  <thead>\n",
       "    <tr style=\"text-align: right;\">\n",
       "      <th></th>\n",
       "      <th>principal_loan_amount</th>\n",
       "      <th>interest_rate</th>\n",
       "      <th>customer_monthly_income</th>\n",
       "      <th>customer_age</th>\n",
       "      <th>customer_credit_score</th>\n",
       "      <th>customer_zip_code</th>\n",
       "    </tr>\n",
       "  </thead>\n",
       "  <tbody>\n",
       "    <tr>\n",
       "      <th>count</th>\n",
       "      <td>15163.000000</td>\n",
       "      <td>15163.000000</td>\n",
       "      <td>15163.000000</td>\n",
       "      <td>15163.000000</td>\n",
       "      <td>15163.000000</td>\n",
       "      <td>15163.000000</td>\n",
       "    </tr>\n",
       "    <tr>\n",
       "      <th>mean</th>\n",
       "      <td>8072.432236</td>\n",
       "      <td>8.852800</td>\n",
       "      <td>4253.158346</td>\n",
       "      <td>41.070896</td>\n",
       "      <td>3.440018</td>\n",
       "      <td>10005.838027</td>\n",
       "    </tr>\n",
       "    <tr>\n",
       "      <th>std</th>\n",
       "      <td>4050.341783</td>\n",
       "      <td>0.814432</td>\n",
       "      <td>1304.176559</td>\n",
       "      <td>11.200741</td>\n",
       "      <td>1.367703</td>\n",
       "      <td>2.098677</td>\n",
       "    </tr>\n",
       "    <tr>\n",
       "      <th>min</th>\n",
       "      <td>1000.000000</td>\n",
       "      <td>7.500000</td>\n",
       "      <td>2000.000000</td>\n",
       "      <td>22.000000</td>\n",
       "      <td>0.000000</td>\n",
       "      <td>10001.000000</td>\n",
       "    </tr>\n",
       "    <tr>\n",
       "      <th>25%</th>\n",
       "      <td>4560.000000</td>\n",
       "      <td>8.000000</td>\n",
       "      <td>3120.000000</td>\n",
       "      <td>31.000000</td>\n",
       "      <td>3.000000</td>\n",
       "      <td>10004.000000</td>\n",
       "    </tr>\n",
       "    <tr>\n",
       "      <th>50%</th>\n",
       "      <td>8110.000000</td>\n",
       "      <td>9.000000</td>\n",
       "      <td>4250.000000</td>\n",
       "      <td>41.000000</td>\n",
       "      <td>4.000000</td>\n",
       "      <td>10006.000000</td>\n",
       "    </tr>\n",
       "    <tr>\n",
       "      <th>75%</th>\n",
       "      <td>11590.000000</td>\n",
       "      <td>9.500000</td>\n",
       "      <td>5390.000000</td>\n",
       "      <td>51.000000</td>\n",
       "      <td>5.000000</td>\n",
       "      <td>10008.000000</td>\n",
       "    </tr>\n",
       "    <tr>\n",
       "      <th>max</th>\n",
       "      <td>15000.000000</td>\n",
       "      <td>10.000000</td>\n",
       "      <td>6500.000000</td>\n",
       "      <td>60.000000</td>\n",
       "      <td>5.000000</td>\n",
       "      <td>10009.000000</td>\n",
       "    </tr>\n",
       "  </tbody>\n",
       "</table>\n",
       "</div>"
      ],
      "text/plain": [
       "       principal_loan_amount  interest_rate  customer_monthly_income  \\\n",
       "count           15163.000000   15163.000000             15163.000000   \n",
       "mean             8072.432236       8.852800              4253.158346   \n",
       "std              4050.341783       0.814432              1304.176559   \n",
       "min              1000.000000       7.500000              2000.000000   \n",
       "25%              4560.000000       8.000000              3120.000000   \n",
       "50%              8110.000000       9.000000              4250.000000   \n",
       "75%             11590.000000       9.500000              5390.000000   \n",
       "max             15000.000000      10.000000              6500.000000   \n",
       "\n",
       "       customer_age  customer_credit_score  customer_zip_code  \n",
       "count  15163.000000           15163.000000       15163.000000  \n",
       "mean      41.070896               3.440018       10005.838027  \n",
       "std       11.200741               1.367703           2.098677  \n",
       "min       22.000000               0.000000       10001.000000  \n",
       "25%       31.000000               3.000000       10004.000000  \n",
       "50%       41.000000               4.000000       10006.000000  \n",
       "75%       51.000000               5.000000       10008.000000  \n",
       "max       60.000000               5.000000       10009.000000  "
      ]
     },
     "execution_count": 33,
     "metadata": {},
     "output_type": "execute_result"
    }
   ],
   "source": [
    "data.describe()"
   ]
  },
  {
   "cell_type": "code",
   "execution_count": 34,
   "metadata": {},
   "outputs": [
    {
     "data": {
      "text/plain": [
       "array(['WEB', 'MOBILE_APP', 'AGENT', 'AFFILIATE', 'DIRECT_SELLING',\n",
       "       'website_revamped', 'ANDROID_V2', 'ANDROID_V3', 'apple_new_v3'],\n",
       "      dtype=object)"
      ]
     },
     "execution_count": 34,
     "metadata": {},
     "output_type": "execute_result"
    }
   ],
   "source": [
    "data.loan_channel.unique()"
   ]
  },
  {
   "attachments": {},
   "cell_type": "markdown",
   "metadata": {},
   "source": [
    "values that need to be mapped: 'website_revamped', 'ANDROID_V2', 'ANDROID_V3', 'apple_new_v3'"
   ]
  },
  {
   "cell_type": "code",
   "execution_count": 35,
   "metadata": {},
   "outputs": [
    {
     "data": {
      "text/plain": [
       "array(['Male', 'Female', 'M', 'F'], dtype=object)"
      ]
     },
     "execution_count": 35,
     "metadata": {},
     "output_type": "execute_result"
    }
   ],
   "source": [
    "data.customer_gender.unique()"
   ]
  },
  {
   "attachments": {},
   "cell_type": "markdown",
   "metadata": {},
   "source": [
    "This column has to be grouped into either 'Male'/'Female' or 'M'/'F'"
   ]
  },
  {
   "cell_type": "code",
   "execution_count": 36,
   "metadata": {},
   "outputs": [
    {
     "data": {
      "text/plain": [
       "('2023-06-29', '2023-01-01')"
      ]
     },
     "execution_count": 36,
     "metadata": {},
     "output_type": "execute_result"
    }
   ],
   "source": [
    "data.request_date.max(), data.request_date.min()"
   ]
  },
  {
   "attachments": {},
   "cell_type": "markdown",
   "metadata": {},
   "source": [
    "The request_date range is within a year."
   ]
  },
  {
   "attachments": {},
   "cell_type": "markdown",
   "metadata": {},
   "source": [
    "## Data Cleaning"
   ]
  },
  {
   "cell_type": "code",
   "execution_count": 37,
   "metadata": {},
   "outputs": [
    {
     "data": {
      "text/plain": [
       "163"
      ]
     },
     "execution_count": 37,
     "metadata": {},
     "output_type": "execute_result"
    }
   ],
   "source": [
    "#checking duplicate data\n",
    "data.duplicated().sum()"
   ]
  },
  {
   "cell_type": "code",
   "execution_count": 38,
   "metadata": {},
   "outputs": [
    {
     "data": {
      "text/plain": [
       "0"
      ]
     },
     "execution_count": 38,
     "metadata": {},
     "output_type": "execute_result"
    }
   ],
   "source": [
    "#dropping duplicate data\n",
    "data.drop_duplicates(keep='first',inplace=True)\n",
    "data.duplicated().sum()"
   ]
  },
  {
   "cell_type": "code",
   "execution_count": 39,
   "metadata": {},
   "outputs": [
    {
     "data": {
      "text/plain": [
       "3353"
      ]
     },
     "execution_count": 39,
     "metadata": {},
     "output_type": "execute_result"
    }
   ],
   "source": [
    "#checking null values of col is_approved\n",
    "data.is_approved.isnull().sum()"
   ]
  },
  {
   "cell_type": "code",
   "execution_count": 40,
   "metadata": {},
   "outputs": [
    {
     "data": {
      "text/plain": [
       "array([True, nan], dtype=object)"
      ]
     },
     "execution_count": 40,
     "metadata": {},
     "output_type": "execute_result"
    }
   ],
   "source": [
    "data.is_approved.unique()"
   ]
  },
  {
   "cell_type": "code",
   "execution_count": 41,
   "metadata": {},
   "outputs": [
    {
     "data": {
      "text/plain": [
       "0"
      ]
     },
     "execution_count": 41,
     "metadata": {},
     "output_type": "execute_result"
    }
   ],
   "source": [
    "#filling null values with False\n",
    "data.is_approved.fillna(False, inplace= True)\n",
    "data.is_approved.isna().sum()"
   ]
  },
  {
   "cell_type": "code",
   "execution_count": 42,
   "metadata": {},
   "outputs": [
    {
     "data": {
      "text/plain": [
       "14459"
      ]
     },
     "execution_count": 42,
     "metadata": {},
     "output_type": "execute_result"
    }
   ],
   "source": [
    "#checking null values of col is_default\n",
    "data.is_default.isna().sum()"
   ]
  },
  {
   "cell_type": "code",
   "execution_count": 43,
   "metadata": {},
   "outputs": [
    {
     "data": {
      "text/plain": [
       "0"
      ]
     },
     "execution_count": 43,
     "metadata": {},
     "output_type": "execute_result"
    }
   ],
   "source": [
    "#filling null values with False\n",
    "data.is_default.fillna(False, inplace= True)\n",
    "data.is_default.isna().sum()"
   ]
  },
  {
   "cell_type": "code",
   "execution_count": 44,
   "metadata": {},
   "outputs": [
    {
     "name": "stdout",
     "output_type": "stream",
     "text": [
      "<class 'pandas.core.frame.DataFrame'>\n",
      "Int64Index: 15000 entries, 0 to 15162\n",
      "Data columns (total 12 columns):\n",
      " #   Column                   Non-Null Count  Dtype  \n",
      "---  ------                   --------------  -----  \n",
      " 0   loan_id                  15000 non-null  object \n",
      " 1   principal_loan_amount    15000 non-null  int64  \n",
      " 2   request_date             15000 non-null  object \n",
      " 3   interest_rate            15000 non-null  float64\n",
      " 4   loan_channel             15000 non-null  object \n",
      " 5   is_approved              15000 non-null  bool   \n",
      " 6   is_default               15000 non-null  bool   \n",
      " 7   customer_monthly_income  15000 non-null  int64  \n",
      " 8   customer_age             15000 non-null  int64  \n",
      " 9   customer_gender          15000 non-null  object \n",
      " 10  customer_credit_score    15000 non-null  int64  \n",
      " 11  customer_zip_code        15000 non-null  int64  \n",
      "dtypes: bool(2), float64(1), int64(5), object(4)\n",
      "memory usage: 1.3+ MB\n"
     ]
    }
   ],
   "source": [
    "data.info()"
   ]
  },
  {
   "attachments": {},
   "cell_type": "markdown",
   "metadata": {},
   "source": [
    "No null values exist anymore."
   ]
  },
  {
   "cell_type": "code",
   "execution_count": 45,
   "metadata": {},
   "outputs": [],
   "source": [
    "#Keeping values of customer_gender column to 'Male' or 'Female'\n",
    "data.customer_gender.replace('Male','M',inplace=True)\n",
    "data.customer_gender.replace('Female','F',inplace=True)"
   ]
  },
  {
   "cell_type": "code",
   "execution_count": 46,
   "metadata": {},
   "outputs": [
    {
     "data": {
      "text/plain": [
       "array(['M', 'F'], dtype=object)"
      ]
     },
     "execution_count": 46,
     "metadata": {},
     "output_type": "execute_result"
    }
   ],
   "source": [
    "data.customer_gender.unique()"
   ]
  },
  {
   "cell_type": "code",
   "execution_count": 47,
   "metadata": {},
   "outputs": [
    {
     "data": {
      "text/plain": [
       "array(['WEB', 'MOBILE_APP', 'AGENT', 'AFFILIATE', 'DIRECT_SELLING',\n",
       "       'website_revamped', 'ANDROID_V2', 'ANDROID_V3', 'apple_new_v3'],\n",
       "      dtype=object)"
      ]
     },
     "execution_count": 47,
     "metadata": {},
     "output_type": "execute_result"
    }
   ],
   "source": [
    "data.loan_channel.unique()"
   ]
  },
  {
   "cell_type": "code",
   "execution_count": 48,
   "metadata": {},
   "outputs": [
    {
     "data": {
      "text/plain": [
       "array(['WEB', 'MOBILE_APP', 'AGENT', 'AFFILIATE', 'DIRECT_SELLING'],\n",
       "      dtype=object)"
      ]
     },
     "execution_count": 48,
     "metadata": {},
     "output_type": "execute_result"
    }
   ],
   "source": [
    "data.loan_channel.replace('website_revamped','WEB',inplace=True)\n",
    "data.loan_channel.replace(['ANDROID_V2', 'ANDROID_V3', 'apple_new_v3'],'MOBILE_APP',inplace=True)\n",
    "\n",
    "data.loan_channel.unique()\n"
   ]
  },
  {
   "cell_type": "code",
   "execution_count": 49,
   "metadata": {},
   "outputs": [],
   "source": [
    "data.to_csv('loan-dataset-1-clean.csv', index=False)"
   ]
  },
  {
   "cell_type": "markdown",
   "metadata": {},
   "source": [
    "## Statistical Analysis"
   ]
  },
  {
   "attachments": {},
   "cell_type": "markdown",
   "metadata": {},
   "source": [
    "<b> Objective 1 : </b>\n",
    "To evaluate the impact of interest rates on loan default rate\n",
    "\n",
    "<b> Null Hypothesis :</b> Interest rates has no effect on the loan default rate.\n",
    "\n",
    "<b> Alternative Hypothesis :</b> Interest rates has significant effect on the loan default rates.\n",
    "\n",
    "<b> Methodology :</b> I will be using the 2 tailed t-test to analyse the impact of interest rates on loan default rate. \n",
    "I will split the data into two groups based on the interest rate levels, then compare the mean default rates between the two groups to analyze the hypothesis.\n"
   ]
  },
  {
   "cell_type": "code",
   "execution_count": 50,
   "metadata": {},
   "outputs": [
    {
     "data": {
      "text/plain": [
       "9.0"
      ]
     },
     "execution_count": 50,
     "metadata": {},
     "output_type": "execute_result"
    }
   ],
   "source": [
    "# using median interest rate to split the data into 2 groups\n",
    "\n",
    "median = data.interest_rate.median()\n",
    "median"
   ]
  },
  {
   "cell_type": "code",
   "execution_count": 51,
   "metadata": {},
   "outputs": [],
   "source": [
    "#2 groups\n",
    "higher_interest_rate = data[data.interest_rate > median]\n",
    "lower_interest_rate = data[data.interest_rate <= median]"
   ]
  },
  {
   "cell_type": "code",
   "execution_count": 52,
   "metadata": {},
   "outputs": [
    {
     "data": {
      "text/plain": [
       "(0.03367684946632315, 0.037424210746393474)"
      ]
     },
     "execution_count": 52,
     "metadata": {},
     "output_type": "execute_result"
    }
   ],
   "source": [
    "high_default = higher_interest_rate['is_default'].mean()\n",
    "low_default = lower_interest_rate['is_default'].mean()\n",
    "\n",
    "high_default, low_default"
   ]
  },
  {
   "cell_type": "markdown",
   "metadata": {},
   "source": [
    "On average, the default percentage rate is 3.4% in the higher ineterest group, which is stightly lower than that at the lower interest group i.e 3.7% . Therefore, I will be doing a 2 tailed t-test to check if this difference is significant enough to make a difference in the loan default."
   ]
  },
  {
   "cell_type": "code",
   "execution_count": 53,
   "metadata": {},
   "outputs": [],
   "source": [
    "# 2 tailed t-test\n",
    "\n",
    "t_stat, p_val = stats.ttest_ind(higher_interest_rate['is_default'],lower_interest_rate['is_default'])"
   ]
  },
  {
   "cell_type": "code",
   "execution_count": 54,
   "metadata": {},
   "outputs": [
    {
     "data": {
      "text/plain": [
       "(-1.1830953524322996, 0.23679011271197214)"
      ]
     },
     "execution_count": 54,
     "metadata": {},
     "output_type": "execute_result"
    }
   ],
   "source": [
    "t_stat , p_val"
   ]
  },
  {
   "cell_type": "markdown",
   "metadata": {},
   "source": [
    "The p value of 0.24 is higher than the commonly used threshold of 0.05 for statistical significance.\n",
    "\n",
    "Therefore, the high p value suggests that there is no significiant difference in the default rate among the two groups of interest rates. Thus, the null hypothesis can be safely accepted."
   ]
  },
  {
   "cell_type": "markdown",
   "metadata": {},
   "source": [
    "<b> Objective 2 :</b> To evaluate the relationship between income level and loan approval.\n",
    "\n",
    "<b> Null Hypothesis :</b> Customer income level has no impact on the loan approval rate.\n",
    "\n",
    "<b> Alternate Hypothesis :</b> customer income level impacts the loan approval rate.\n",
    "\n"
   ]
  },
  {
   "cell_type": "code",
   "execution_count": 56,
   "metadata": {},
   "outputs": [
    {
     "data": {
      "text/plain": [
       "customer_monthly_income\n",
       "(0.0, 2500.0]       0.781103\n",
       "(2500.0, 5000.0]    0.776105\n",
       "(5000.0, 7500.0]    0.775494\n",
       "(7500.0, inf]            NaN\n",
       "Name: is_approved, dtype: float64"
      ]
     },
     "execution_count": 56,
     "metadata": {},
     "output_type": "execute_result"
    }
   ],
   "source": [
    "# first lets see if the average approval rate differs between different income groups\n",
    "income_groups = pd.cut(data['customer_monthly_income'], bins=[0, 2500, 5000, 7500, np.inf])\n",
    "approval_rate = data.groupby(income_groups)['is_approved'].mean()\n",
    "approval_rate"
   ]
  },
  {
   "cell_type": "markdown",
   "metadata": {},
   "source": [
    "It seems there's no significant difference in approval rate among the different income groups. so, lets fit a fit a logistic regrssion to validate this."
   ]
  },
  {
   "cell_type": "code",
   "execution_count": 58,
   "metadata": {},
   "outputs": [
    {
     "name": "stdout",
     "output_type": "stream",
     "text": [
      "Optimization terminated successfully.\n",
      "         Current function value: 0.531339\n",
      "         Iterations 5\n",
      "                           Logit Regression Results                           \n",
      "==============================================================================\n",
      "Dep. Variable:            is_approved   No. Observations:                15000\n",
      "Model:                          Logit   Df Residuals:                    14998\n",
      "Method:                           MLE   Df Model:                            1\n",
      "Date:                Mon, 16 Oct 2023   Pseudo R-squ.:               8.514e-06\n",
      "Time:                        17:28:12   Log-Likelihood:                -7970.1\n",
      "converged:                       True   LL-Null:                       -7970.2\n",
      "Covariance Type:            nonrobust   LLR p-value:                    0.7126\n",
      "===========================================================================================\n",
      "                              coef    std err          z      P>|z|      [0.025      0.975]\n",
      "-------------------------------------------------------------------------------------------\n",
      "const                       1.2688      0.067     18.948      0.000       1.138       1.400\n",
      "customer_monthly_income -5.539e-06    1.5e-05     -0.368      0.713    -3.5e-05    2.39e-05\n",
      "===========================================================================================\n"
     ]
    }
   ],
   "source": [
    "#Logistic regression\n",
    "\n",
    "X = sm.add_constant(data['customer_monthly_income'])\n",
    "Y = data['is_approved']\n",
    "model = sm.Logit(Y,X).fit()\n",
    "print(model.summary())"
   ]
  },
  {
   "cell_type": "markdown",
   "metadata": {},
   "source": [
    "The p-value for the customer_onthly_income coefficient is 0.713, which is greater than the significance level of 0.05. Therefore, we fail to reject the null hypothesis that there is no linear relationship between income level and loan approval rates."
   ]
  },
  {
   "cell_type": "markdown",
   "metadata": {},
   "source": [
    "<b> Objective 3 :</b> The effect of loan channel on default rate.\n",
    "\n",
    "<b> Null hypothesis:</b> loan channel has no impact on the loan approval rate\n",
    "\n",
    "<b> Alternative hypothesis:</b> loan channel impacts the loan approval rate\n",
    "\n",
    "<b> Methodology :</b> Using ANOVA test to determine if there is a significant difference between loan default rates across different loan channels. If the test indicates that there is a significant difference, we can use post-hoc tests to determine which specific loan channels have different loan default rates."
   ]
  },
  {
   "cell_type": "code",
   "execution_count": 59,
   "metadata": {},
   "outputs": [],
   "source": [
    "data['is_default'] = data['is_default'].astype(int)"
   ]
  },
  {
   "cell_type": "code",
   "execution_count": 64,
   "metadata": {},
   "outputs": [
    {
     "name": "stdout",
     "output_type": "stream",
     "text": [
      "                     sum_sq       df           F         PR(>F)\n",
      "C(loan_channel)   29.296879      4.0  223.138301  2.286606e-186\n",
      "Residual         492.191054  14995.0         NaN            NaN\n"
     ]
    }
   ],
   "source": [
    "formula = 'is_default ~ C(loan_channel)'\n",
    "model = ols(formula, data=data).fit()\n",
    "aov_table = sm.stats.anova_lm(model, typ=2)\n",
    "print(aov_table)"
   ]
  },
  {
   "cell_type": "markdown",
   "metadata": {},
   "source": [
    "Here, the p-value of the coefficient of loan_channel is less than 0.05, therefore making it significant. Now, I will be using Tukey's Honestly Significant Difference (HSD) test on the data."
   ]
  },
  {
   "cell_type": "code",
   "execution_count": 65,
   "metadata": {},
   "outputs": [
    {
     "name": "stdout",
     "output_type": "stream",
     "text": [
      "       Multiple Comparison of Means - Tukey HSD, FWER=0.05        \n",
      "==================================================================\n",
      "    group1         group2     meandiff p-adj  lower  upper  reject\n",
      "------------------------------------------------------------------\n",
      "     AFFILIATE          AGENT  -0.0034   0.9 -0.0161 0.0093  False\n",
      "     AFFILIATE DIRECT_SELLING   0.0004   0.9 -0.0125 0.0133  False\n",
      "     AFFILIATE     MOBILE_APP  -0.0036   0.9 -0.0165 0.0092  False\n",
      "     AFFILIATE            WEB   0.1059 0.001  0.0934 0.1185   True\n",
      "         AGENT DIRECT_SELLING   0.0038   0.9 -0.0091 0.0167  False\n",
      "         AGENT     MOBILE_APP  -0.0002   0.9 -0.0131 0.0126  False\n",
      "         AGENT            WEB   0.1093 0.001  0.0968 0.1218   True\n",
      "DIRECT_SELLING     MOBILE_APP   -0.004   0.9  -0.017  0.009  False\n",
      "DIRECT_SELLING            WEB   0.1055 0.001  0.0928 0.1182   True\n",
      "    MOBILE_APP            WEB   0.1095 0.001  0.0969 0.1222   True\n",
      "------------------------------------------------------------------\n"
     ]
    }
   ],
   "source": [
    "mc = sm.stats.multicomp.MultiComparison(data['is_default'], data['loan_channel'])\n",
    "mc_results = mc.tukeyhsd()\n",
    "print(mc_results.summary())"
   ]
  },
  {
   "cell_type": "markdown",
   "metadata": {},
   "source": [
    "If the reject column is true for a pair of loan channels, then we can reject the null hypothesis and conclude that there is a significant difference between the default rates of the loan channels.\n",
    "\n",
    "Here,the reject column is true for the pairs of loan channels (AFFILIATE, WEB), (AGENT, WEB), (DIRECT_SELLING, WEB), and (MOBILE_APP, WEB). This suggests that the default rate for loans obtained through the WEB channel is significantly different from the default rates for loans obtained through the other channels.\n",
    "\n",
    "Hence we can reject the null hypothesis, since WEB channel contributes to loan default rate."
   ]
  },
  {
   "cell_type": "markdown",
   "metadata": {},
   "source": [
    "Therefore , from the entire analysis, we can say that, interest rates has no effect on the default rate but the type of loan channel does effect the default rate. we have also seen that customer income level has no impact on the loan approval rate."
   ]
  }
 ],
 "metadata": {
  "kernelspec": {
   "display_name": "Python 3",
   "language": "python",
   "name": "python3"
  },
  "language_info": {
   "codemirror_mode": {
    "name": "ipython",
    "version": 3
   },
   "file_extension": ".py",
   "mimetype": "text/x-python",
   "name": "python",
   "nbconvert_exporter": "python",
   "pygments_lexer": "ipython3",
   "version": "3.9.13"
  },
  "orig_nbformat": 4
 },
 "nbformat": 4,
 "nbformat_minor": 2
}
