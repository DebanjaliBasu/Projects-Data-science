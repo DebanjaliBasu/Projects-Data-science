{
 "cells": [
  {
   "cell_type": "code",
   "execution_count": 1,
   "id": "3fafc233",
   "metadata": {
    "_cell_guid": "b1076dfc-b9ad-4769-8c92-a6c4dae69d19",
    "_uuid": "8f2839f25d086af736a60e9eeb907d3b93b6e0e5",
    "execution": {
     "iopub.execute_input": "2021-10-31T14:27:28.792104Z",
     "iopub.status.busy": "2021-10-31T14:27:28.791412Z",
     "iopub.status.idle": "2021-10-31T14:27:28.811505Z",
     "shell.execute_reply": "2021-10-31T14:27:28.812301Z",
     "shell.execute_reply.started": "2021-10-31T13:15:43.19097Z"
    },
    "papermill": {
     "duration": 0.073955,
     "end_time": "2021-10-31T14:27:28.812744",
     "exception": false,
     "start_time": "2021-10-31T14:27:28.738789",
     "status": "completed"
    },
    "tags": []
   },
   "outputs": [],
   "source": [
    "# This Python 3 environment comes with many helpful analytics libraries installed\n",
    "# It is defined by the kaggle/python Docker image: https://github.com/kaggle/docker-python\n",
    "# For example, here's several helpful packages to load\n",
    "\n",
    "import numpy as np # linear algebra\n",
    "import pandas as pd # data processing, CSV file I/O (e.g. pd.read_csv)\n",
    "\n",
    "# Input data files are available in the read-only \"../input/\" directory\n",
    "# For example, running this (by clicking run or pressing Shift+Enter) will list all files under the input directory\n",
    "\n",
    "import os\n",
    "for dirname, _, filenames in os.walk('/kaggle/input'):\n",
    "    for filename in filenames:\n",
    "        print(os.path.join(dirname, filename))\n",
    "\n",
    "# You can write up to 20GB to the current directory (/kaggle/working/) that gets preserved as output when you create a version using \"Save & Run All\" \n",
    "# You can also write temporary files to /kaggle/temp/, but they won't be saved outside of the current session"
   ]
  },
  {
   "cell_type": "code",
   "execution_count": 2,
   "id": "545e5524",
   "metadata": {
    "execution": {
     "iopub.execute_input": "2021-10-31T14:27:28.900913Z",
     "iopub.status.busy": "2021-10-31T14:27:28.900184Z",
     "iopub.status.idle": "2021-10-31T14:27:30.029599Z",
     "shell.execute_reply": "2021-10-31T14:27:30.028928Z",
     "shell.execute_reply.started": "2021-10-31T13:15:43.204926Z"
    },
    "papermill": {
     "duration": 1.175381,
     "end_time": "2021-10-31T14:27:30.029808",
     "exception": false,
     "start_time": "2021-10-31T14:27:28.854427",
     "status": "completed"
    },
    "tags": []
   },
   "outputs": [
    {
     "ename": "FileNotFoundError",
     "evalue": "[Errno 2] No such file or directory: '/kaggle/input/tmdb-movie-metadata/tmdb_5000_movies.csv'",
     "output_type": "error",
     "traceback": [
      "\u001b[1;31m---------------------------------------------------------------------------\u001b[0m",
      "\u001b[1;31mFileNotFoundError\u001b[0m                         Traceback (most recent call last)",
      "\u001b[1;32m<ipython-input-2-bd0af81a9369>\u001b[0m in \u001b[0;36m<module>\u001b[1;34m\u001b[0m\n\u001b[1;32m----> 1\u001b[1;33m \u001b[0mmovie\u001b[0m \u001b[1;33m=\u001b[0m \u001b[0mpd\u001b[0m\u001b[1;33m.\u001b[0m\u001b[0mread_csv\u001b[0m\u001b[1;33m(\u001b[0m\u001b[1;34m'/kaggle/input/tmdb-movie-metadata/tmdb_5000_movies.csv'\u001b[0m\u001b[1;33m)\u001b[0m\u001b[1;33m\u001b[0m\u001b[1;33m\u001b[0m\u001b[0m\n\u001b[0m\u001b[0;32m      2\u001b[0m \u001b[0mcredits\u001b[0m \u001b[1;33m=\u001b[0m \u001b[0mpd\u001b[0m\u001b[1;33m.\u001b[0m\u001b[0mread_csv\u001b[0m\u001b[1;33m(\u001b[0m\u001b[1;34m'/kaggle/input/tmdb-movie-metadata/tmdb_5000_credits.csv'\u001b[0m\u001b[1;33m)\u001b[0m\u001b[1;33m\u001b[0m\u001b[1;33m\u001b[0m\u001b[0m\n",
      "\u001b[1;32m~\\anaconda3\\lib\\site-packages\\pandas\\io\\parsers.py\u001b[0m in \u001b[0;36mread_csv\u001b[1;34m(filepath_or_buffer, sep, delimiter, header, names, index_col, usecols, squeeze, prefix, mangle_dupe_cols, dtype, engine, converters, true_values, false_values, skipinitialspace, skiprows, skipfooter, nrows, na_values, keep_default_na, na_filter, verbose, skip_blank_lines, parse_dates, infer_datetime_format, keep_date_col, date_parser, dayfirst, cache_dates, iterator, chunksize, compression, thousands, decimal, lineterminator, quotechar, quoting, doublequote, escapechar, comment, encoding, dialect, error_bad_lines, warn_bad_lines, delim_whitespace, low_memory, memory_map, float_precision, storage_options)\u001b[0m\n\u001b[0;32m    608\u001b[0m     \u001b[0mkwds\u001b[0m\u001b[1;33m.\u001b[0m\u001b[0mupdate\u001b[0m\u001b[1;33m(\u001b[0m\u001b[0mkwds_defaults\u001b[0m\u001b[1;33m)\u001b[0m\u001b[1;33m\u001b[0m\u001b[1;33m\u001b[0m\u001b[0m\n\u001b[0;32m    609\u001b[0m \u001b[1;33m\u001b[0m\u001b[0m\n\u001b[1;32m--> 610\u001b[1;33m     \u001b[1;32mreturn\u001b[0m \u001b[0m_read\u001b[0m\u001b[1;33m(\u001b[0m\u001b[0mfilepath_or_buffer\u001b[0m\u001b[1;33m,\u001b[0m \u001b[0mkwds\u001b[0m\u001b[1;33m)\u001b[0m\u001b[1;33m\u001b[0m\u001b[1;33m\u001b[0m\u001b[0m\n\u001b[0m\u001b[0;32m    611\u001b[0m \u001b[1;33m\u001b[0m\u001b[0m\n\u001b[0;32m    612\u001b[0m \u001b[1;33m\u001b[0m\u001b[0m\n",
      "\u001b[1;32m~\\anaconda3\\lib\\site-packages\\pandas\\io\\parsers.py\u001b[0m in \u001b[0;36m_read\u001b[1;34m(filepath_or_buffer, kwds)\u001b[0m\n\u001b[0;32m    460\u001b[0m \u001b[1;33m\u001b[0m\u001b[0m\n\u001b[0;32m    461\u001b[0m     \u001b[1;31m# Create the parser.\u001b[0m\u001b[1;33m\u001b[0m\u001b[1;33m\u001b[0m\u001b[1;33m\u001b[0m\u001b[0m\n\u001b[1;32m--> 462\u001b[1;33m     \u001b[0mparser\u001b[0m \u001b[1;33m=\u001b[0m \u001b[0mTextFileReader\u001b[0m\u001b[1;33m(\u001b[0m\u001b[0mfilepath_or_buffer\u001b[0m\u001b[1;33m,\u001b[0m \u001b[1;33m**\u001b[0m\u001b[0mkwds\u001b[0m\u001b[1;33m)\u001b[0m\u001b[1;33m\u001b[0m\u001b[1;33m\u001b[0m\u001b[0m\n\u001b[0m\u001b[0;32m    463\u001b[0m \u001b[1;33m\u001b[0m\u001b[0m\n\u001b[0;32m    464\u001b[0m     \u001b[1;32mif\u001b[0m \u001b[0mchunksize\u001b[0m \u001b[1;32mor\u001b[0m \u001b[0miterator\u001b[0m\u001b[1;33m:\u001b[0m\u001b[1;33m\u001b[0m\u001b[1;33m\u001b[0m\u001b[0m\n",
      "\u001b[1;32m~\\anaconda3\\lib\\site-packages\\pandas\\io\\parsers.py\u001b[0m in \u001b[0;36m__init__\u001b[1;34m(self, f, engine, **kwds)\u001b[0m\n\u001b[0;32m    817\u001b[0m             \u001b[0mself\u001b[0m\u001b[1;33m.\u001b[0m\u001b[0moptions\u001b[0m\u001b[1;33m[\u001b[0m\u001b[1;34m\"has_index_names\"\u001b[0m\u001b[1;33m]\u001b[0m \u001b[1;33m=\u001b[0m \u001b[0mkwds\u001b[0m\u001b[1;33m[\u001b[0m\u001b[1;34m\"has_index_names\"\u001b[0m\u001b[1;33m]\u001b[0m\u001b[1;33m\u001b[0m\u001b[1;33m\u001b[0m\u001b[0m\n\u001b[0;32m    818\u001b[0m \u001b[1;33m\u001b[0m\u001b[0m\n\u001b[1;32m--> 819\u001b[1;33m         \u001b[0mself\u001b[0m\u001b[1;33m.\u001b[0m\u001b[0m_engine\u001b[0m \u001b[1;33m=\u001b[0m \u001b[0mself\u001b[0m\u001b[1;33m.\u001b[0m\u001b[0m_make_engine\u001b[0m\u001b[1;33m(\u001b[0m\u001b[0mself\u001b[0m\u001b[1;33m.\u001b[0m\u001b[0mengine\u001b[0m\u001b[1;33m)\u001b[0m\u001b[1;33m\u001b[0m\u001b[1;33m\u001b[0m\u001b[0m\n\u001b[0m\u001b[0;32m    820\u001b[0m \u001b[1;33m\u001b[0m\u001b[0m\n\u001b[0;32m    821\u001b[0m     \u001b[1;32mdef\u001b[0m \u001b[0mclose\u001b[0m\u001b[1;33m(\u001b[0m\u001b[0mself\u001b[0m\u001b[1;33m)\u001b[0m\u001b[1;33m:\u001b[0m\u001b[1;33m\u001b[0m\u001b[1;33m\u001b[0m\u001b[0m\n",
      "\u001b[1;32m~\\anaconda3\\lib\\site-packages\\pandas\\io\\parsers.py\u001b[0m in \u001b[0;36m_make_engine\u001b[1;34m(self, engine)\u001b[0m\n\u001b[0;32m   1048\u001b[0m             )\n\u001b[0;32m   1049\u001b[0m         \u001b[1;31m# error: Too many arguments for \"ParserBase\"\u001b[0m\u001b[1;33m\u001b[0m\u001b[1;33m\u001b[0m\u001b[1;33m\u001b[0m\u001b[0m\n\u001b[1;32m-> 1050\u001b[1;33m         \u001b[1;32mreturn\u001b[0m \u001b[0mmapping\u001b[0m\u001b[1;33m[\u001b[0m\u001b[0mengine\u001b[0m\u001b[1;33m]\u001b[0m\u001b[1;33m(\u001b[0m\u001b[0mself\u001b[0m\u001b[1;33m.\u001b[0m\u001b[0mf\u001b[0m\u001b[1;33m,\u001b[0m \u001b[1;33m**\u001b[0m\u001b[0mself\u001b[0m\u001b[1;33m.\u001b[0m\u001b[0moptions\u001b[0m\u001b[1;33m)\u001b[0m  \u001b[1;31m# type: ignore[call-arg]\u001b[0m\u001b[1;33m\u001b[0m\u001b[1;33m\u001b[0m\u001b[0m\n\u001b[0m\u001b[0;32m   1051\u001b[0m \u001b[1;33m\u001b[0m\u001b[0m\n\u001b[0;32m   1052\u001b[0m     \u001b[1;32mdef\u001b[0m \u001b[0m_failover_to_python\u001b[0m\u001b[1;33m(\u001b[0m\u001b[0mself\u001b[0m\u001b[1;33m)\u001b[0m\u001b[1;33m:\u001b[0m\u001b[1;33m\u001b[0m\u001b[1;33m\u001b[0m\u001b[0m\n",
      "\u001b[1;32m~\\anaconda3\\lib\\site-packages\\pandas\\io\\parsers.py\u001b[0m in \u001b[0;36m__init__\u001b[1;34m(self, src, **kwds)\u001b[0m\n\u001b[0;32m   1865\u001b[0m \u001b[1;33m\u001b[0m\u001b[0m\n\u001b[0;32m   1866\u001b[0m         \u001b[1;31m# open handles\u001b[0m\u001b[1;33m\u001b[0m\u001b[1;33m\u001b[0m\u001b[1;33m\u001b[0m\u001b[0m\n\u001b[1;32m-> 1867\u001b[1;33m         \u001b[0mself\u001b[0m\u001b[1;33m.\u001b[0m\u001b[0m_open_handles\u001b[0m\u001b[1;33m(\u001b[0m\u001b[0msrc\u001b[0m\u001b[1;33m,\u001b[0m \u001b[0mkwds\u001b[0m\u001b[1;33m)\u001b[0m\u001b[1;33m\u001b[0m\u001b[1;33m\u001b[0m\u001b[0m\n\u001b[0m\u001b[0;32m   1868\u001b[0m         \u001b[1;32massert\u001b[0m \u001b[0mself\u001b[0m\u001b[1;33m.\u001b[0m\u001b[0mhandles\u001b[0m \u001b[1;32mis\u001b[0m \u001b[1;32mnot\u001b[0m \u001b[1;32mNone\u001b[0m\u001b[1;33m\u001b[0m\u001b[1;33m\u001b[0m\u001b[0m\n\u001b[0;32m   1869\u001b[0m         \u001b[1;32mfor\u001b[0m \u001b[0mkey\u001b[0m \u001b[1;32min\u001b[0m \u001b[1;33m(\u001b[0m\u001b[1;34m\"storage_options\"\u001b[0m\u001b[1;33m,\u001b[0m \u001b[1;34m\"encoding\"\u001b[0m\u001b[1;33m,\u001b[0m \u001b[1;34m\"memory_map\"\u001b[0m\u001b[1;33m,\u001b[0m \u001b[1;34m\"compression\"\u001b[0m\u001b[1;33m)\u001b[0m\u001b[1;33m:\u001b[0m\u001b[1;33m\u001b[0m\u001b[1;33m\u001b[0m\u001b[0m\n",
      "\u001b[1;32m~\\anaconda3\\lib\\site-packages\\pandas\\io\\parsers.py\u001b[0m in \u001b[0;36m_open_handles\u001b[1;34m(self, src, kwds)\u001b[0m\n\u001b[0;32m   1360\u001b[0m         \u001b[0mLet\u001b[0m \u001b[0mthe\u001b[0m \u001b[0mreaders\u001b[0m \u001b[0mopen\u001b[0m \u001b[0mIOHanldes\u001b[0m \u001b[0mafter\u001b[0m \u001b[0mthey\u001b[0m \u001b[0mare\u001b[0m \u001b[0mdone\u001b[0m \u001b[1;32mwith\u001b[0m \u001b[0mtheir\u001b[0m \u001b[0mpotential\u001b[0m \u001b[0mraises\u001b[0m\u001b[1;33m.\u001b[0m\u001b[1;33m\u001b[0m\u001b[1;33m\u001b[0m\u001b[0m\n\u001b[0;32m   1361\u001b[0m         \"\"\"\n\u001b[1;32m-> 1362\u001b[1;33m         self.handles = get_handle(\n\u001b[0m\u001b[0;32m   1363\u001b[0m             \u001b[0msrc\u001b[0m\u001b[1;33m,\u001b[0m\u001b[1;33m\u001b[0m\u001b[1;33m\u001b[0m\u001b[0m\n\u001b[0;32m   1364\u001b[0m             \u001b[1;34m\"r\"\u001b[0m\u001b[1;33m,\u001b[0m\u001b[1;33m\u001b[0m\u001b[1;33m\u001b[0m\u001b[0m\n",
      "\u001b[1;32m~\\anaconda3\\lib\\site-packages\\pandas\\io\\common.py\u001b[0m in \u001b[0;36mget_handle\u001b[1;34m(path_or_buf, mode, encoding, compression, memory_map, is_text, errors, storage_options)\u001b[0m\n\u001b[0;32m    640\u001b[0m                 \u001b[0merrors\u001b[0m \u001b[1;33m=\u001b[0m \u001b[1;34m\"replace\"\u001b[0m\u001b[1;33m\u001b[0m\u001b[1;33m\u001b[0m\u001b[0m\n\u001b[0;32m    641\u001b[0m             \u001b[1;31m# Encoding\u001b[0m\u001b[1;33m\u001b[0m\u001b[1;33m\u001b[0m\u001b[1;33m\u001b[0m\u001b[0m\n\u001b[1;32m--> 642\u001b[1;33m             handle = open(\n\u001b[0m\u001b[0;32m    643\u001b[0m                 \u001b[0mhandle\u001b[0m\u001b[1;33m,\u001b[0m\u001b[1;33m\u001b[0m\u001b[1;33m\u001b[0m\u001b[0m\n\u001b[0;32m    644\u001b[0m                 \u001b[0mioargs\u001b[0m\u001b[1;33m.\u001b[0m\u001b[0mmode\u001b[0m\u001b[1;33m,\u001b[0m\u001b[1;33m\u001b[0m\u001b[1;33m\u001b[0m\u001b[0m\n",
      "\u001b[1;31mFileNotFoundError\u001b[0m: [Errno 2] No such file or directory: '/kaggle/input/tmdb-movie-metadata/tmdb_5000_movies.csv'"
     ]
    }
   ],
   "source": [
    "movie = pd.read_csv('tmdb_5000_movies.csv')\n",
    "credits = pd.read_csv('/kaggle/input/tmdb-movie-metadata/tmdb_5000_credits.csv')"
   ]
  },
  {
   "cell_type": "code",
   "execution_count": null,
   "id": "0b8461b2",
   "metadata": {
    "execution": {
     "iopub.execute_input": "2021-10-31T14:27:30.121485Z",
     "iopub.status.busy": "2021-10-31T14:27:30.120804Z",
     "iopub.status.idle": "2021-10-31T14:27:30.146351Z",
     "shell.execute_reply": "2021-10-31T14:27:30.146874Z",
     "shell.execute_reply.started": "2021-10-31T13:15:43.82891Z"
    },
    "papermill": {
     "duration": 0.075908,
     "end_time": "2021-10-31T14:27:30.147053",
     "exception": false,
     "start_time": "2021-10-31T14:27:30.071145",
     "status": "completed"
    },
    "tags": []
   },
   "outputs": [],
   "source": [
    "movie.head()"
   ]
  },
  {
   "cell_type": "code",
   "execution_count": null,
   "id": "c30077f3",
   "metadata": {
    "execution": {
     "iopub.execute_input": "2021-10-31T14:27:30.235094Z",
     "iopub.status.busy": "2021-10-31T14:27:30.234373Z",
     "iopub.status.idle": "2021-10-31T14:27:30.245158Z",
     "shell.execute_reply": "2021-10-31T14:27:30.245647Z",
     "shell.execute_reply.started": "2021-10-31T13:15:43.857044Z"
    },
    "papermill": {
     "duration": 0.056659,
     "end_time": "2021-10-31T14:27:30.245839",
     "exception": false,
     "start_time": "2021-10-31T14:27:30.189180",
     "status": "completed"
    },
    "tags": []
   },
   "outputs": [],
   "source": [
    "credits.head()"
   ]
  },
  {
   "cell_type": "code",
   "execution_count": null,
   "id": "a33d48d6",
   "metadata": {
    "execution": {
     "iopub.execute_input": "2021-10-31T14:27:30.333299Z",
     "iopub.status.busy": "2021-10-31T14:27:30.332599Z",
     "iopub.status.idle": "2021-10-31T14:27:30.363723Z",
     "shell.execute_reply": "2021-10-31T14:27:30.363129Z",
     "shell.execute_reply.started": "2021-10-31T13:15:43.873138Z"
    },
    "papermill": {
     "duration": 0.076188,
     "end_time": "2021-10-31T14:27:30.363876",
     "exception": false,
     "start_time": "2021-10-31T14:27:30.287688",
     "status": "completed"
    },
    "tags": []
   },
   "outputs": [],
   "source": [
    "movie = movie.merge(credits,on = 'title')"
   ]
  },
  {
   "cell_type": "code",
   "execution_count": null,
   "id": "ab917bdb",
   "metadata": {
    "execution": {
     "iopub.execute_input": "2021-10-31T14:27:30.455917Z",
     "iopub.status.busy": "2021-10-31T14:27:30.455212Z",
     "iopub.status.idle": "2021-10-31T14:27:30.482109Z",
     "shell.execute_reply": "2021-10-31T14:27:30.482645Z",
     "shell.execute_reply.started": "2021-10-31T13:15:43.899792Z"
    },
    "papermill": {
     "duration": 0.072657,
     "end_time": "2021-10-31T14:27:30.482839",
     "exception": false,
     "start_time": "2021-10-31T14:27:30.410182",
     "status": "completed"
    },
    "tags": []
   },
   "outputs": [],
   "source": [
    "movie.head()"
   ]
  },
  {
   "cell_type": "code",
   "execution_count": null,
   "id": "20b85bf6",
   "metadata": {
    "execution": {
     "iopub.execute_input": "2021-10-31T14:27:30.571797Z",
     "iopub.status.busy": "2021-10-31T14:27:30.571124Z",
     "iopub.status.idle": "2021-10-31T14:27:30.580618Z",
     "shell.execute_reply": "2021-10-31T14:27:30.581195Z",
     "shell.execute_reply.started": "2021-10-31T13:15:43.932228Z"
    },
    "papermill": {
     "duration": 0.055573,
     "end_time": "2021-10-31T14:27:30.581377",
     "exception": false,
     "start_time": "2021-10-31T14:27:30.525804",
     "status": "completed"
    },
    "tags": []
   },
   "outputs": [],
   "source": [
    "#genres\n",
    "#id\n",
    "#keywords\n",
    "#title\n",
    "#overview\n",
    "#cast\n",
    "#crew\n",
    "\n",
    "movie = movie[['movie_id','title','overview','genres','keywords','cast','crew']]"
   ]
  },
  {
   "cell_type": "code",
   "execution_count": null,
   "id": "17b4ff2d",
   "metadata": {
    "execution": {
     "iopub.execute_input": "2021-10-31T14:27:30.732581Z",
     "iopub.status.busy": "2021-10-31T14:27:30.731960Z",
     "iopub.status.idle": "2021-10-31T14:27:30.745826Z",
     "shell.execute_reply": "2021-10-31T14:27:30.745141Z",
     "shell.execute_reply.started": "2021-10-31T13:15:43.948343Z"
    },
    "papermill": {
     "duration": 0.059715,
     "end_time": "2021-10-31T14:27:30.745970",
     "exception": false,
     "start_time": "2021-10-31T14:27:30.686255",
     "status": "completed"
    },
    "tags": []
   },
   "outputs": [],
   "source": [
    "movie.head()"
   ]
  },
  {
   "cell_type": "code",
   "execution_count": null,
   "id": "23c1a134",
   "metadata": {
    "execution": {
     "iopub.execute_input": "2021-10-31T14:27:30.838585Z",
     "iopub.status.busy": "2021-10-31T14:27:30.837964Z",
     "iopub.status.idle": "2021-10-31T14:27:30.842504Z",
     "shell.execute_reply": "2021-10-31T14:27:30.843061Z",
     "shell.execute_reply.started": "2021-10-31T13:15:43.966339Z"
    },
    "papermill": {
     "duration": 0.052332,
     "end_time": "2021-10-31T14:27:30.843232",
     "exception": false,
     "start_time": "2021-10-31T14:27:30.790900",
     "status": "completed"
    },
    "tags": []
   },
   "outputs": [],
   "source": [
    "movie.shape"
   ]
  },
  {
   "cell_type": "code",
   "execution_count": null,
   "id": "f4f5bd60",
   "metadata": {
    "execution": {
     "iopub.execute_input": "2021-10-31T14:27:30.935606Z",
     "iopub.status.busy": "2021-10-31T14:27:30.934953Z",
     "iopub.status.idle": "2021-10-31T14:27:30.947041Z",
     "shell.execute_reply": "2021-10-31T14:27:30.947562Z",
     "shell.execute_reply.started": "2021-10-31T13:15:43.973921Z"
    },
    "papermill": {
     "duration": 0.060481,
     "end_time": "2021-10-31T14:27:30.947752",
     "exception": false,
     "start_time": "2021-10-31T14:27:30.887271",
     "status": "completed"
    },
    "tags": []
   },
   "outputs": [],
   "source": [
    "movie.isnull().sum()"
   ]
  },
  {
   "cell_type": "code",
   "execution_count": null,
   "id": "4cd9a8ef",
   "metadata": {
    "execution": {
     "iopub.execute_input": "2021-10-31T14:27:31.040444Z",
     "iopub.status.busy": "2021-10-31T14:27:31.039828Z",
     "iopub.status.idle": "2021-10-31T14:27:31.051403Z",
     "shell.execute_reply": "2021-10-31T14:27:31.051974Z",
     "shell.execute_reply.started": "2021-10-31T13:15:43.996633Z"
    },
    "papermill": {
     "duration": 0.059926,
     "end_time": "2021-10-31T14:27:31.052154",
     "exception": false,
     "start_time": "2021-10-31T14:27:30.992228",
     "status": "completed"
    },
    "tags": []
   },
   "outputs": [],
   "source": [
    "movie.dropna(inplace=True)\n"
   ]
  },
  {
   "cell_type": "code",
   "execution_count": null,
   "id": "2913a86a",
   "metadata": {
    "execution": {
     "iopub.execute_input": "2021-10-31T14:27:31.144028Z",
     "iopub.status.busy": "2021-10-31T14:27:31.143404Z",
     "iopub.status.idle": "2021-10-31T14:27:31.155226Z",
     "shell.execute_reply": "2021-10-31T14:27:31.155813Z",
     "shell.execute_reply.started": "2021-10-31T13:15:44.012691Z"
    },
    "papermill": {
     "duration": 0.059588,
     "end_time": "2021-10-31T14:27:31.155986",
     "exception": false,
     "start_time": "2021-10-31T14:27:31.096398",
     "status": "completed"
    },
    "tags": []
   },
   "outputs": [],
   "source": [
    "movie.isnull().sum()"
   ]
  },
  {
   "cell_type": "code",
   "execution_count": null,
   "id": "3a340383",
   "metadata": {
    "execution": {
     "iopub.execute_input": "2021-10-31T14:27:31.249613Z",
     "iopub.status.busy": "2021-10-31T14:27:31.248996Z",
     "iopub.status.idle": "2021-10-31T14:27:31.354107Z",
     "shell.execute_reply": "2021-10-31T14:27:31.354595Z",
     "shell.execute_reply.started": "2021-10-31T13:15:44.028937Z"
    },
    "papermill": {
     "duration": 0.153346,
     "end_time": "2021-10-31T14:27:31.354775",
     "exception": false,
     "start_time": "2021-10-31T14:27:31.201429",
     "status": "completed"
    },
    "tags": []
   },
   "outputs": [],
   "source": [
    "movie.duplicated().sum()"
   ]
  },
  {
   "cell_type": "code",
   "execution_count": null,
   "id": "ba72f70f",
   "metadata": {
    "execution": {
     "iopub.execute_input": "2021-10-31T14:27:31.451449Z",
     "iopub.status.busy": "2021-10-31T14:27:31.450798Z",
     "iopub.status.idle": "2021-10-31T14:27:31.453251Z",
     "shell.execute_reply": "2021-10-31T14:27:31.453782Z",
     "shell.execute_reply.started": "2021-10-31T13:15:44.146285Z"
    },
    "papermill": {
     "duration": 0.053831,
     "end_time": "2021-10-31T14:27:31.453956",
     "exception": false,
     "start_time": "2021-10-31T14:27:31.400125",
     "status": "completed"
    },
    "tags": []
   },
   "outputs": [],
   "source": [
    "movie.iloc[0].genres"
   ]
  },
  {
   "cell_type": "code",
   "execution_count": null,
   "id": "8c6a361f",
   "metadata": {
    "execution": {
     "iopub.execute_input": "2021-10-31T14:27:31.547473Z",
     "iopub.status.busy": "2021-10-31T14:27:31.546876Z",
     "iopub.status.idle": "2021-10-31T14:27:31.550315Z",
     "shell.execute_reply": "2021-10-31T14:27:31.550850Z",
     "shell.execute_reply.started": "2021-10-31T13:15:44.155784Z"
    },
    "papermill": {
     "duration": 0.052021,
     "end_time": "2021-10-31T14:27:31.551025",
     "exception": false,
     "start_time": "2021-10-31T14:27:31.499004",
     "status": "completed"
    },
    "tags": []
   },
   "outputs": [],
   "source": [
    "import ast"
   ]
  },
  {
   "cell_type": "code",
   "execution_count": null,
   "id": "52ebfd9b",
   "metadata": {
    "execution": {
     "iopub.execute_input": "2021-10-31T14:27:31.645186Z",
     "iopub.status.busy": "2021-10-31T14:27:31.644469Z",
     "iopub.status.idle": "2021-10-31T14:27:31.648455Z",
     "shell.execute_reply": "2021-10-31T14:27:31.648991Z",
     "shell.execute_reply.started": "2021-10-31T13:15:44.167209Z"
    },
    "papermill": {
     "duration": 0.052681,
     "end_time": "2021-10-31T14:27:31.649163",
     "exception": false,
     "start_time": "2021-10-31T14:27:31.596482",
     "status": "completed"
    },
    "tags": []
   },
   "outputs": [],
   "source": [
    "def convert(obj):\n",
    "    L = []\n",
    "    for i in ast.literal_eval(obj):\n",
    "        L.append(i['name'])\n",
    "    return L"
   ]
  },
  {
   "cell_type": "code",
   "execution_count": null,
   "id": "1582f96c",
   "metadata": {
    "execution": {
     "iopub.execute_input": "2021-10-31T14:27:31.750333Z",
     "iopub.status.busy": "2021-10-31T14:27:31.749582Z",
     "iopub.status.idle": "2021-10-31T14:27:31.908462Z",
     "shell.execute_reply": "2021-10-31T14:27:31.909029Z",
     "shell.execute_reply.started": "2021-10-31T13:15:44.179911Z"
    },
    "papermill": {
     "duration": 0.214633,
     "end_time": "2021-10-31T14:27:31.909235",
     "exception": false,
     "start_time": "2021-10-31T14:27:31.694602",
     "status": "completed"
    },
    "tags": []
   },
   "outputs": [],
   "source": [
    "movie['genres'] = movie['genres'].apply(convert)"
   ]
  },
  {
   "cell_type": "code",
   "execution_count": null,
   "id": "762c8a2e",
   "metadata": {
    "execution": {
     "iopub.execute_input": "2021-10-31T14:27:32.009874Z",
     "iopub.status.busy": "2021-10-31T14:27:32.003158Z",
     "iopub.status.idle": "2021-10-31T14:27:32.020037Z",
     "shell.execute_reply": "2021-10-31T14:27:32.019361Z",
     "shell.execute_reply.started": "2021-10-31T13:15:44.357361Z"
    },
    "papermill": {
     "duration": 0.065496,
     "end_time": "2021-10-31T14:27:32.020180",
     "exception": false,
     "start_time": "2021-10-31T14:27:31.954684",
     "status": "completed"
    },
    "tags": []
   },
   "outputs": [],
   "source": [
    "movie.head()"
   ]
  },
  {
   "cell_type": "code",
   "execution_count": null,
   "id": "0555e063",
   "metadata": {
    "execution": {
     "iopub.execute_input": "2021-10-31T14:27:32.154465Z",
     "iopub.status.busy": "2021-10-31T14:27:32.138776Z",
     "iopub.status.idle": "2021-10-31T14:27:32.539890Z",
     "shell.execute_reply": "2021-10-31T14:27:32.539234Z",
     "shell.execute_reply.started": "2021-10-31T13:15:44.376875Z"
    },
    "papermill": {
     "duration": 0.472978,
     "end_time": "2021-10-31T14:27:32.540032",
     "exception": false,
     "start_time": "2021-10-31T14:27:32.067054",
     "status": "completed"
    },
    "tags": []
   },
   "outputs": [],
   "source": [
    "movie['keywords'] = movie['keywords'].apply(convert)"
   ]
  },
  {
   "cell_type": "code",
   "execution_count": null,
   "id": "b2dc3a5f",
   "metadata": {
    "execution": {
     "iopub.execute_input": "2021-10-31T14:27:32.637987Z",
     "iopub.status.busy": "2021-10-31T14:27:32.637329Z",
     "iopub.status.idle": "2021-10-31T14:27:32.654113Z",
     "shell.execute_reply": "2021-10-31T14:27:32.653412Z",
     "shell.execute_reply.started": "2021-10-31T13:15:44.842245Z"
    },
    "papermill": {
     "duration": 0.068102,
     "end_time": "2021-10-31T14:27:32.654260",
     "exception": false,
     "start_time": "2021-10-31T14:27:32.586158",
     "status": "completed"
    },
    "tags": []
   },
   "outputs": [],
   "source": [
    "movie.head()"
   ]
  },
  {
   "cell_type": "code",
   "execution_count": null,
   "id": "75a90699",
   "metadata": {
    "execution": {
     "iopub.execute_input": "2021-10-31T14:27:32.751204Z",
     "iopub.status.busy": "2021-10-31T14:27:32.750446Z",
     "iopub.status.idle": "2021-10-31T14:27:32.755149Z",
     "shell.execute_reply": "2021-10-31T14:27:32.755725Z",
     "shell.execute_reply.started": "2021-10-31T13:15:44.870002Z"
    },
    "papermill": {
     "duration": 0.054831,
     "end_time": "2021-10-31T14:27:32.755908",
     "exception": false,
     "start_time": "2021-10-31T14:27:32.701077",
     "status": "completed"
    },
    "tags": []
   },
   "outputs": [],
   "source": [
    "def convert1(obj):\n",
    "    L = []\n",
    "    counter = 0\n",
    "    for i in ast.literal_eval(obj):\n",
    "        if counter <= 2:\n",
    "            L.append(i['name'])\n",
    "            counter += 1\n",
    "        else:\n",
    "            break\n",
    "        \n",
    "    return L"
   ]
  },
  {
   "cell_type": "code",
   "execution_count": null,
   "id": "dcf4ac95",
   "metadata": {
    "execution": {
     "iopub.execute_input": "2021-10-31T14:27:32.879568Z",
     "iopub.status.busy": "2021-10-31T14:27:32.878880Z",
     "iopub.status.idle": "2021-10-31T14:27:36.204161Z",
     "shell.execute_reply": "2021-10-31T14:27:36.204931Z",
     "shell.execute_reply.started": "2021-10-31T13:15:44.885896Z"
    },
    "papermill": {
     "duration": 3.401127,
     "end_time": "2021-10-31T14:27:36.205111",
     "exception": false,
     "start_time": "2021-10-31T14:27:32.803984",
     "status": "completed"
    },
    "tags": []
   },
   "outputs": [],
   "source": [
    "movie['cast'] = movie['cast'].apply(convert1)\n",
    "movie.head()"
   ]
  },
  {
   "cell_type": "code",
   "execution_count": null,
   "id": "1aac7ca2",
   "metadata": {
    "execution": {
     "iopub.execute_input": "2021-10-31T14:27:36.303397Z",
     "iopub.status.busy": "2021-10-31T14:27:36.302732Z",
     "iopub.status.idle": "2021-10-31T14:27:36.307191Z",
     "shell.execute_reply": "2021-10-31T14:27:36.307731Z",
     "shell.execute_reply.started": "2021-10-31T13:15:48.449116Z"
    },
    "papermill": {
     "duration": 0.055051,
     "end_time": "2021-10-31T14:27:36.307913",
     "exception": false,
     "start_time": "2021-10-31T14:27:36.252862",
     "status": "completed"
    },
    "tags": []
   },
   "outputs": [],
   "source": [
    "def convert_director(obj):\n",
    "    L = []\n",
    "    for i in ast.literal_eval(obj):\n",
    "        if i['job'] == 'Director':\n",
    "            L.append(i['name'])\n",
    "            break\n",
    "        \n",
    "    return L"
   ]
  },
  {
   "cell_type": "code",
   "execution_count": null,
   "id": "d7371352",
   "metadata": {
    "execution": {
     "iopub.execute_input": "2021-10-31T14:27:36.404991Z",
     "iopub.status.busy": "2021-10-31T14:27:36.404340Z",
     "iopub.status.idle": "2021-10-31T14:27:40.169803Z",
     "shell.execute_reply": "2021-10-31T14:27:40.169224Z",
     "shell.execute_reply.started": "2021-10-31T13:15:48.455533Z"
    },
    "papermill": {
     "duration": 3.815097,
     "end_time": "2021-10-31T14:27:40.169960",
     "exception": false,
     "start_time": "2021-10-31T14:27:36.354863",
     "status": "completed"
    },
    "tags": []
   },
   "outputs": [],
   "source": [
    "movie['crew'] = movie['crew'].apply(convert_director)\n",
    "movie.head()"
   ]
  },
  {
   "cell_type": "code",
   "execution_count": null,
   "id": "48ce1a0b",
   "metadata": {
    "execution": {
     "iopub.execute_input": "2021-10-31T14:27:40.287123Z",
     "iopub.status.busy": "2021-10-31T14:27:40.286351Z",
     "iopub.status.idle": "2021-10-31T14:27:40.305977Z",
     "shell.execute_reply": "2021-10-31T14:27:40.305410Z",
     "shell.execute_reply.started": "2021-10-31T13:15:52.24619Z"
    },
    "papermill": {
     "duration": 0.088101,
     "end_time": "2021-10-31T14:27:40.306130",
     "exception": false,
     "start_time": "2021-10-31T14:27:40.218029",
     "status": "completed"
    },
    "tags": []
   },
   "outputs": [],
   "source": [
    "movie['overview'] = movie['overview'].apply(lambda x: x.split())"
   ]
  },
  {
   "cell_type": "code",
   "execution_count": null,
   "id": "809ea5b0",
   "metadata": {
    "execution": {
     "iopub.execute_input": "2021-10-31T14:27:40.416692Z",
     "iopub.status.busy": "2021-10-31T14:27:40.412748Z",
     "iopub.status.idle": "2021-10-31T14:27:40.429450Z",
     "shell.execute_reply": "2021-10-31T14:27:40.430120Z",
     "shell.execute_reply.started": "2021-10-31T13:15:52.288698Z"
    },
    "papermill": {
     "duration": 0.075121,
     "end_time": "2021-10-31T14:27:40.430302",
     "exception": false,
     "start_time": "2021-10-31T14:27:40.355181",
     "status": "completed"
    },
    "tags": []
   },
   "outputs": [],
   "source": [
    "movie.head()"
   ]
  },
  {
   "cell_type": "code",
   "execution_count": null,
   "id": "310000da",
   "metadata": {
    "execution": {
     "iopub.execute_input": "2021-10-31T14:27:40.532723Z",
     "iopub.status.busy": "2021-10-31T14:27:40.532086Z",
     "iopub.status.idle": "2021-10-31T14:27:40.540495Z",
     "shell.execute_reply": "2021-10-31T14:27:40.541047Z",
     "shell.execute_reply.started": "2021-10-31T13:15:52.325536Z"
    },
    "papermill": {
     "duration": 0.062375,
     "end_time": "2021-10-31T14:27:40.541226",
     "exception": false,
     "start_time": "2021-10-31T14:27:40.478851",
     "status": "completed"
    },
    "tags": []
   },
   "outputs": [],
   "source": [
    "movie['genres'] = movie['genres'].apply(lambda x: [i.replace(\" \",\"\") for i in x])\n"
   ]
  },
  {
   "cell_type": "code",
   "execution_count": null,
   "id": "6114e1c2",
   "metadata": {
    "execution": {
     "iopub.execute_input": "2021-10-31T14:27:40.650728Z",
     "iopub.status.busy": "2021-10-31T14:27:40.641781Z",
     "iopub.status.idle": "2021-10-31T14:27:40.665396Z",
     "shell.execute_reply": "2021-10-31T14:27:40.664843Z",
     "shell.execute_reply.started": "2021-10-31T13:15:52.346412Z"
    },
    "papermill": {
     "duration": 0.075842,
     "end_time": "2021-10-31T14:27:40.665550",
     "exception": false,
     "start_time": "2021-10-31T14:27:40.589708",
     "status": "completed"
    },
    "tags": []
   },
   "outputs": [],
   "source": [
    "movie['keywords'] = movie['keywords'].apply(lambda x: [i.replace(\" \",\"\") for i in x])\n"
   ]
  },
  {
   "cell_type": "code",
   "execution_count": null,
   "id": "14145a2c",
   "metadata": {
    "execution": {
     "iopub.execute_input": "2021-10-31T14:27:40.770734Z",
     "iopub.status.busy": "2021-10-31T14:27:40.769846Z",
     "iopub.status.idle": "2021-10-31T14:27:40.787488Z",
     "shell.execute_reply": "2021-10-31T14:27:40.788109Z",
     "shell.execute_reply.started": "2021-10-31T13:15:52.383678Z"
    },
    "papermill": {
     "duration": 0.073322,
     "end_time": "2021-10-31T14:27:40.788307",
     "exception": false,
     "start_time": "2021-10-31T14:27:40.714985",
     "status": "completed"
    },
    "tags": []
   },
   "outputs": [],
   "source": [
    "movie['cast'] = movie['cast'].apply(lambda x: [i.replace(\" \",\"\") for i in x])\n"
   ]
  },
  {
   "cell_type": "code",
   "execution_count": null,
   "id": "db2ead6b",
   "metadata": {
    "execution": {
     "iopub.execute_input": "2021-10-31T14:27:40.906119Z",
     "iopub.status.busy": "2021-10-31T14:27:40.905386Z",
     "iopub.status.idle": "2021-10-31T14:27:40.917648Z",
     "shell.execute_reply": "2021-10-31T14:27:40.918225Z",
     "shell.execute_reply.started": "2021-10-31T13:15:52.403355Z"
    },
    "papermill": {
     "duration": 0.067421,
     "end_time": "2021-10-31T14:27:40.918424",
     "exception": false,
     "start_time": "2021-10-31T14:27:40.851003",
     "status": "completed"
    },
    "tags": []
   },
   "outputs": [],
   "source": [
    "movie['crew'] = movie['crew'].apply(lambda x: [i.replace(\" \",\"\") for i in x])\n"
   ]
  },
  {
   "cell_type": "code",
   "execution_count": null,
   "id": "f5fdec17",
   "metadata": {
    "execution": {
     "iopub.execute_input": "2021-10-31T14:27:41.039106Z",
     "iopub.status.busy": "2021-10-31T14:27:41.038370Z",
     "iopub.status.idle": "2021-10-31T14:27:41.042478Z",
     "shell.execute_reply": "2021-10-31T14:27:41.041941Z",
     "shell.execute_reply.started": "2021-10-31T13:15:52.421229Z"
    },
    "papermill": {
     "duration": 0.07583,
     "end_time": "2021-10-31T14:27:41.042627",
     "exception": false,
     "start_time": "2021-10-31T14:27:40.966797",
     "status": "completed"
    },
    "tags": []
   },
   "outputs": [],
   "source": [
    "movie.head()"
   ]
  },
  {
   "cell_type": "code",
   "execution_count": null,
   "id": "17d83bb0",
   "metadata": {
    "execution": {
     "iopub.execute_input": "2021-10-31T14:27:41.326719Z",
     "iopub.status.busy": "2021-10-31T14:27:41.158826Z",
     "iopub.status.idle": "2021-10-31T14:27:41.342063Z",
     "shell.execute_reply": "2021-10-31T14:27:41.342600Z",
     "shell.execute_reply.started": "2021-10-31T13:15:52.450165Z"
    },
    "papermill": {
     "duration": 0.250922,
     "end_time": "2021-10-31T14:27:41.342800",
     "exception": false,
     "start_time": "2021-10-31T14:27:41.091878",
     "status": "completed"
    },
    "tags": []
   },
   "outputs": [],
   "source": [
    "movie['tags'] = movie['overview']+movie['genres']+movie['keywords']+movie['cast']+movie['crew']\n",
    "movie.head()"
   ]
  },
  {
   "cell_type": "code",
   "execution_count": null,
   "id": "5503db53",
   "metadata": {
    "execution": {
     "iopub.execute_input": "2021-10-31T14:27:41.452893Z",
     "iopub.status.busy": "2021-10-31T14:27:41.452052Z",
     "iopub.status.idle": "2021-10-31T14:27:41.454401Z",
     "shell.execute_reply": "2021-10-31T14:27:41.454983Z",
     "shell.execute_reply.started": "2021-10-31T13:15:52.551286Z"
    },
    "papermill": {
     "duration": 0.061271,
     "end_time": "2021-10-31T14:27:41.455164",
     "exception": false,
     "start_time": "2021-10-31T14:27:41.393893",
     "status": "completed"
    },
    "tags": []
   },
   "outputs": [],
   "source": [
    "new_df = movie.drop(['overview','genres','keywords','cast','crew'],axis = 1)"
   ]
  },
  {
   "cell_type": "code",
   "execution_count": null,
   "id": "3f328d97",
   "metadata": {
    "execution": {
     "iopub.execute_input": "2021-10-31T14:27:41.558920Z",
     "iopub.status.busy": "2021-10-31T14:27:41.558200Z",
     "iopub.status.idle": "2021-10-31T14:27:41.571514Z",
     "shell.execute_reply": "2021-10-31T14:27:41.572048Z",
     "shell.execute_reply.started": "2021-10-31T13:15:52.56049Z"
    },
    "papermill": {
     "duration": 0.06676,
     "end_time": "2021-10-31T14:27:41.572223",
     "exception": false,
     "start_time": "2021-10-31T14:27:41.505463",
     "status": "completed"
    },
    "tags": []
   },
   "outputs": [],
   "source": [
    "new_df.head()"
   ]
  },
  {
   "cell_type": "code",
   "execution_count": null,
   "id": "0b77936d",
   "metadata": {
    "execution": {
     "iopub.execute_input": "2021-10-31T14:27:41.675543Z",
     "iopub.status.busy": "2021-10-31T14:27:41.674949Z",
     "iopub.status.idle": "2021-10-31T14:27:41.701585Z",
     "shell.execute_reply": "2021-10-31T14:27:41.702136Z",
     "shell.execute_reply.started": "2021-10-31T13:15:52.58306Z"
    },
    "papermill": {
     "duration": 0.079893,
     "end_time": "2021-10-31T14:27:41.702315",
     "exception": false,
     "start_time": "2021-10-31T14:27:41.622422",
     "status": "completed"
    },
    "tags": []
   },
   "outputs": [],
   "source": [
    "new_df['tags'] = new_df['tags'].apply(lambda x: \" \".join(x))\n",
    "new_df.head()"
   ]
  },
  {
   "cell_type": "code",
   "execution_count": null,
   "id": "cfa481f6",
   "metadata": {
    "execution": {
     "iopub.execute_input": "2021-10-31T14:27:41.807812Z",
     "iopub.status.busy": "2021-10-31T14:27:41.807097Z",
     "iopub.status.idle": "2021-10-31T14:27:41.825403Z",
     "shell.execute_reply": "2021-10-31T14:27:41.824845Z",
     "shell.execute_reply.started": "2021-10-31T13:15:52.617921Z"
    },
    "papermill": {
     "duration": 0.072275,
     "end_time": "2021-10-31T14:27:41.825541",
     "exception": false,
     "start_time": "2021-10-31T14:27:41.753266",
     "status": "completed"
    },
    "tags": []
   },
   "outputs": [],
   "source": [
    "new_df['tags'] = new_df['tags'].apply(lambda x: x.lower())\n",
    "new_df.head()"
   ]
  },
  {
   "cell_type": "code",
   "execution_count": null,
   "id": "849acad2",
   "metadata": {
    "execution": {
     "iopub.execute_input": "2021-10-31T14:27:41.933045Z",
     "iopub.status.busy": "2021-10-31T14:27:41.932316Z",
     "iopub.status.idle": "2021-10-31T14:27:43.397922Z",
     "shell.execute_reply": "2021-10-31T14:27:43.398543Z",
     "shell.execute_reply.started": "2021-10-31T13:23:21.275141Z"
    },
    "papermill": {
     "duration": 1.52224,
     "end_time": "2021-10-31T14:27:43.399020",
     "exception": false,
     "start_time": "2021-10-31T14:27:41.876780",
     "status": "completed"
    },
    "tags": []
   },
   "outputs": [],
   "source": [
    "import nltk"
   ]
  },
  {
   "cell_type": "code",
   "execution_count": null,
   "id": "4c0e45df",
   "metadata": {
    "execution": {
     "iopub.execute_input": "2021-10-31T14:27:43.506139Z",
     "iopub.status.busy": "2021-10-31T14:27:43.505458Z",
     "iopub.status.idle": "2021-10-31T14:27:43.508295Z",
     "shell.execute_reply": "2021-10-31T14:27:43.507819Z",
     "shell.execute_reply.started": "2021-10-31T13:24:33.934941Z"
    },
    "papermill": {
     "duration": 0.058145,
     "end_time": "2021-10-31T14:27:43.508450",
     "exception": false,
     "start_time": "2021-10-31T14:27:43.450305",
     "status": "completed"
    },
    "tags": []
   },
   "outputs": [],
   "source": [
    "from nltk.stem.porter import PorterStemmer\n",
    "ps = PorterStemmer()"
   ]
  },
  {
   "cell_type": "code",
   "execution_count": null,
   "id": "73361438",
   "metadata": {
    "execution": {
     "iopub.execute_input": "2021-10-31T14:27:43.616903Z",
     "iopub.status.busy": "2021-10-31T14:27:43.616193Z",
     "iopub.status.idle": "2021-10-31T14:27:43.618858Z",
     "shell.execute_reply": "2021-10-31T14:27:43.618210Z",
     "shell.execute_reply.started": "2021-10-31T13:30:26.657503Z"
    },
    "papermill": {
     "duration": 0.058699,
     "end_time": "2021-10-31T14:27:43.618994",
     "exception": false,
     "start_time": "2021-10-31T14:27:43.560295",
     "status": "completed"
    },
    "tags": []
   },
   "outputs": [],
   "source": [
    "def stem(text):\n",
    "    y = []\n",
    "    for i in text.split():\n",
    "        y.append(ps.stem(i))\n",
    "        \n",
    "    return \" \".join(y)"
   ]
  },
  {
   "cell_type": "code",
   "execution_count": null,
   "id": "8a2c2dfe",
   "metadata": {
    "execution": {
     "iopub.execute_input": "2021-10-31T14:27:43.725590Z",
     "iopub.status.busy": "2021-10-31T14:27:43.724966Z",
     "iopub.status.idle": "2021-10-31T14:27:52.308413Z",
     "shell.execute_reply": "2021-10-31T14:27:52.307849Z",
     "shell.execute_reply.started": "2021-10-31T13:31:49.048694Z"
    },
    "papermill": {
     "duration": 8.638691,
     "end_time": "2021-10-31T14:27:52.308584",
     "exception": false,
     "start_time": "2021-10-31T14:27:43.669893",
     "status": "completed"
    },
    "tags": []
   },
   "outputs": [],
   "source": [
    "new_df['tags'] = new_df['tags'].apply(stem)"
   ]
  },
  {
   "cell_type": "code",
   "execution_count": null,
   "id": "2969acdb",
   "metadata": {
    "execution": {
     "iopub.execute_input": "2021-10-31T14:27:52.415060Z",
     "iopub.status.busy": "2021-10-31T14:27:52.414354Z",
     "iopub.status.idle": "2021-10-31T14:27:52.423114Z",
     "shell.execute_reply": "2021-10-31T14:27:52.423585Z",
     "shell.execute_reply.started": "2021-10-31T13:32:05.260932Z"
    },
    "papermill": {
     "duration": 0.063664,
     "end_time": "2021-10-31T14:27:52.423766",
     "exception": false,
     "start_time": "2021-10-31T14:27:52.360102",
     "status": "completed"
    },
    "tags": []
   },
   "outputs": [],
   "source": [
    "new_df.head()"
   ]
  },
  {
   "cell_type": "code",
   "execution_count": null,
   "id": "43483e81",
   "metadata": {
    "execution": {
     "iopub.execute_input": "2021-10-31T14:27:52.531544Z",
     "iopub.status.busy": "2021-10-31T14:27:52.530909Z",
     "iopub.status.idle": "2021-10-31T14:27:52.534312Z",
     "shell.execute_reply": "2021-10-31T14:27:52.534861Z",
     "shell.execute_reply.started": "2021-10-31T13:38:25.183607Z"
    },
    "papermill": {
     "duration": 0.058769,
     "end_time": "2021-10-31T14:27:52.535032",
     "exception": false,
     "start_time": "2021-10-31T14:27:52.476263",
     "status": "completed"
    },
    "tags": []
   },
   "outputs": [],
   "source": [
    "from sklearn.feature_extraction.text import CountVectorizer\n",
    "cv = CountVectorizer(max_features=5000, stop_words= 'english')"
   ]
  },
  {
   "cell_type": "code",
   "execution_count": null,
   "id": "e76401b4",
   "metadata": {
    "execution": {
     "iopub.execute_input": "2021-10-31T14:27:52.641652Z",
     "iopub.status.busy": "2021-10-31T14:27:52.640981Z",
     "iopub.status.idle": "2021-10-31T14:27:53.245524Z",
     "shell.execute_reply": "2021-10-31T14:27:53.246085Z",
     "shell.execute_reply.started": "2021-10-31T13:38:28.615321Z"
    },
    "papermill": {
     "duration": 0.659446,
     "end_time": "2021-10-31T14:27:53.246259",
     "exception": false,
     "start_time": "2021-10-31T14:27:52.586813",
     "status": "completed"
    },
    "tags": []
   },
   "outputs": [],
   "source": [
    "vectors = cv.fit_transform(new_df['tags']).toarray()"
   ]
  },
  {
   "cell_type": "code",
   "execution_count": null,
   "id": "9d994fe6",
   "metadata": {
    "execution": {
     "iopub.execute_input": "2021-10-31T14:27:53.352376Z",
     "iopub.status.busy": "2021-10-31T14:27:53.351631Z",
     "iopub.status.idle": "2021-10-31T14:27:53.356406Z",
     "shell.execute_reply": "2021-10-31T14:27:53.356969Z",
     "shell.execute_reply.started": "2021-10-31T13:38:32.377723Z"
    },
    "papermill": {
     "duration": 0.05943,
     "end_time": "2021-10-31T14:27:53.357136",
     "exception": false,
     "start_time": "2021-10-31T14:27:53.297706",
     "status": "completed"
    },
    "tags": []
   },
   "outputs": [],
   "source": [
    "vectors"
   ]
  },
  {
   "cell_type": "code",
   "execution_count": null,
   "id": "71c396a0",
   "metadata": {
    "execution": {
     "iopub.execute_input": "2021-10-31T14:27:53.464400Z",
     "iopub.status.busy": "2021-10-31T14:27:53.463615Z",
     "iopub.status.idle": "2021-10-31T14:27:53.466813Z",
     "shell.execute_reply": "2021-10-31T14:27:53.467345Z",
     "shell.execute_reply.started": "2021-10-31T13:40:26.038012Z"
    },
    "papermill": {
     "duration": 0.058581,
     "end_time": "2021-10-31T14:27:53.467512",
     "exception": false,
     "start_time": "2021-10-31T14:27:53.408931",
     "status": "completed"
    },
    "tags": []
   },
   "outputs": [],
   "source": [
    "from sklearn.metrics.pairwise import cosine_similarity"
   ]
  },
  {
   "cell_type": "code",
   "execution_count": null,
   "id": "5506aa0f",
   "metadata": {
    "execution": {
     "iopub.execute_input": "2021-10-31T14:27:53.575192Z",
     "iopub.status.busy": "2021-10-31T14:27:53.573624Z",
     "iopub.status.idle": "2021-10-31T14:27:55.770304Z",
     "shell.execute_reply": "2021-10-31T14:27:55.771271Z",
     "shell.execute_reply.started": "2021-10-31T13:42:04.749363Z"
    },
    "papermill": {
     "duration": 2.252442,
     "end_time": "2021-10-31T14:27:55.771558",
     "exception": false,
     "start_time": "2021-10-31T14:27:53.519116",
     "status": "completed"
    },
    "tags": []
   },
   "outputs": [],
   "source": [
    "similarity = cosine_similarity(vectors)"
   ]
  },
  {
   "cell_type": "code",
   "execution_count": null,
   "id": "9f98ea92",
   "metadata": {
    "execution": {
     "iopub.execute_input": "2021-10-31T14:27:55.888080Z",
     "iopub.status.busy": "2021-10-31T14:27:55.887410Z",
     "iopub.status.idle": "2021-10-31T14:27:55.889857Z",
     "shell.execute_reply": "2021-10-31T14:27:55.890329Z",
     "shell.execute_reply.started": "2021-10-31T13:44:10.276599Z"
    },
    "papermill": {
     "duration": 0.061149,
     "end_time": "2021-10-31T14:27:55.890488",
     "exception": false,
     "start_time": "2021-10-31T14:27:55.829339",
     "status": "completed"
    },
    "tags": []
   },
   "outputs": [],
   "source": [
    "similarity.shape"
   ]
  },
  {
   "cell_type": "code",
   "execution_count": null,
   "id": "9a3089f8",
   "metadata": {
    "execution": {
     "iopub.execute_input": "2021-10-31T14:27:55.999844Z",
     "iopub.status.busy": "2021-10-31T14:27:55.999147Z",
     "iopub.status.idle": "2021-10-31T14:27:56.003924Z",
     "shell.execute_reply": "2021-10-31T14:27:56.004485Z",
     "shell.execute_reply.started": "2021-10-31T14:11:06.188423Z"
    },
    "papermill": {
     "duration": 0.062172,
     "end_time": "2021-10-31T14:27:56.004684",
     "exception": false,
     "start_time": "2021-10-31T14:27:55.942512",
     "status": "completed"
    },
    "tags": []
   },
   "outputs": [],
   "source": [
    "def recommend(movie):\n",
    "    movie_index = new_df[new_df['title'] == movie].index[0]\n",
    "    distances = similarity[movie_index]\n",
    "    movies_list = sorted(list(enumerate(distances)),reverse = True,key = lambda x: x[1])[1:6]\n",
    "    \n",
    "    for i in movies_list:\n",
    "        print(new_df.iloc[i[0]].title)\n",
    "    return\n",
    "    "
   ]
  },
  {
   "cell_type": "code",
   "execution_count": null,
   "id": "67931acc",
   "metadata": {
    "execution": {
     "iopub.execute_input": "2021-10-31T14:27:56.113736Z",
     "iopub.status.busy": "2021-10-31T14:27:56.113052Z",
     "iopub.status.idle": "2021-10-31T14:27:56.127024Z",
     "shell.execute_reply": "2021-10-31T14:27:56.127560Z",
     "shell.execute_reply.started": "2021-10-31T14:11:47.096269Z"
    },
    "papermill": {
     "duration": 0.069654,
     "end_time": "2021-10-31T14:27:56.127747",
     "exception": false,
     "start_time": "2021-10-31T14:27:56.058093",
     "status": "completed"
    },
    "tags": []
   },
   "outputs": [],
   "source": [
    "recommend('Batman Begins')"
   ]
  },
  {
   "cell_type": "code",
   "execution_count": null,
   "id": "2e26911e",
   "metadata": {
    "papermill": {
     "duration": 0.052011,
     "end_time": "2021-10-31T14:27:56.232708",
     "exception": false,
     "start_time": "2021-10-31T14:27:56.180697",
     "status": "completed"
    },
    "tags": []
   },
   "outputs": [],
   "source": []
  },
  {
   "cell_type": "code",
   "execution_count": null,
   "id": "44280bab",
   "metadata": {
    "papermill": {
     "duration": 0.052055,
     "end_time": "2021-10-31T14:27:56.337038",
     "exception": false,
     "start_time": "2021-10-31T14:27:56.284983",
     "status": "completed"
    },
    "tags": []
   },
   "outputs": [],
   "source": []
  }
 ],
 "metadata": {
  "kernelspec": {
   "display_name": "Python 3",
   "language": "python",
   "name": "python3"
  },
  "language_info": {
   "codemirror_mode": {
    "name": "ipython",
    "version": 3
   },
   "file_extension": ".py",
   "mimetype": "text/x-python",
   "name": "python",
   "nbconvert_exporter": "python",
   "pygments_lexer": "ipython3",
   "version": "3.8.8"
  },
  "papermill": {
   "default_parameters": {},
   "duration": 37.756283,
   "end_time": "2021-10-31T14:27:57.199937",
   "environment_variables": {},
   "exception": null,
   "input_path": "__notebook__.ipynb",
   "output_path": "__notebook__.ipynb",
   "parameters": {},
   "start_time": "2021-10-31T14:27:19.443654",
   "version": "2.3.3"
  }
 },
 "nbformat": 4,
 "nbformat_minor": 5
}
